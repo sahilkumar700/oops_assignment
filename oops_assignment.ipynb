{
 "cells": [
  {
   "cell_type": "code",
   "execution_count": null,
   "id": "eff92fb2-b9b9-406c-b6d5-5f87d03860c6",
   "metadata": {},
   "outputs": [],
   "source": [
    "1. What are the five key concepts of Object-Oriented Programming (OOP)?"
   ]
  },
  {
   "cell_type": "code",
   "execution_count": null,
   "id": "f3710cd4-c15a-4c62-b333-0aeb79d55bb3",
   "metadata": {},
   "outputs": [],
   "source": [
    "The five key concepts of Object-Oriented Programming (OOP) are:\n",
    "\n",
    "Encapsulation: Bundling data and methods that operate on the data within a single unit, typically a class, and restricting access to some \n",
    "components to protect the integrity of the object.\n",
    "\n",
    "Abstraction: Hiding complex implementation details and showing only the essential features of an object, allowing users to \n",
    "interact with objects at a higher level.\n",
    "\n",
    "Inheritance: A mechanism that allows a new class to inherit properties and behaviors (methods) from an existing class,\n",
    "promoting code reusability.\n",
    "\n",
    "Polymorphism: The ability of different objects to respond to the same method in different ways, allowing methods to have\n",
    "different implementations based on the object’s class.\n",
    "\n",
    "Classes and Objects: A class is a blueprint for creating objects, which are instances of the class. Objects have attributes \n",
    "(data) and methods (functions) associated with them."
   ]
  },
  {
   "cell_type": "code",
   "execution_count": null,
   "id": "dd4402a0-f74a-474e-b00e-2e75906c90f5",
   "metadata": {},
   "outputs": [],
   "source": [
    " 2. Write a Python class for a `Car` with attributes for `make`, `model`, and `year`. Include a method to display \n",
    "the car's information."
   ]
  },
  {
   "cell_type": "code",
   "execution_count": null,
   "id": "be9e05f1-3bb4-43c4-875b-e559593ac51b",
   "metadata": {},
   "outputs": [],
   "source": [
    "Here's a simple Python class for a Car that includes attributes for make, model, and year, along with a method to display the car's information:"
   ]
  },
  {
   "cell_type": "code",
   "execution_count": 1,
   "id": "44259802-feb4-482a-92be-1570bdc80e48",
   "metadata": {},
   "outputs": [
    {
     "name": "stdout",
     "output_type": "stream",
     "text": [
      "Car Information: 2024 Toyota Corolla\n"
     ]
    }
   ],
   "source": [
    "class Car:\n",
    "    def __init__(self, make, model, year):\n",
    "        self.make = make\n",
    "        self.model = model\n",
    "        self.year = year\n",
    "\n",
    "    def display_info(self):\n",
    "        print(f\"Car Information: {self.year} {self.make} {self.model}\")\n",
    "\n",
    "\n",
    "car1 = Car(\"Toyota\", \"Corolla\", 2024)\n",
    "car1.display_info()\n"
   ]
  },
  {
   "cell_type": "code",
   "execution_count": null,
   "id": "2783b1fb-f011-4def-9969-e9f468fb9d22",
   "metadata": {},
   "outputs": [],
   "source": [
    " 3. Explain the difference between instance methods and class methods. Provide an example of each."
   ]
  },
  {
   "cell_type": "code",
   "execution_count": null,
   "id": "39cbddb8-fa32-44cc-9a0f-3a727264860f",
   "metadata": {},
   "outputs": [],
   "source": [
    "In Python, both instance methods and class methods are used to define behaviors in a class, but they differ in how they interact with the\n",
    "class and its objects."
   ]
  },
  {
   "cell_type": "code",
   "execution_count": null,
   "id": "c7087070-cc84-4174-bddc-ea0a11f51395",
   "metadata": {},
   "outputs": [],
   "source": [
    " Instance Methods:\n",
    "Definition: Instance methods are functions that belong to an instance (object) of the class. They take self as the first parameter,\n",
    "which refers to the current instance of the class. These methods can access and modify instance-specific data (attributes) and are\n",
    "called using an object of the class.\n",
    "Usage: Instance methods are used to perform actions that involve or modify the data specific to an individual object."
   ]
  },
  {
   "cell_type": "code",
   "execution_count": 3,
   "id": "5dc46896-509e-4880-a733-800916543697",
   "metadata": {},
   "outputs": [
    {
     "name": "stdout",
     "output_type": "stream",
     "text": [
      "Car Information: 2024 Toyota Corolla\n"
     ]
    }
   ],
   "source": [
    "class Car:\n",
    "    def __init__(self, make, model, year):\n",
    "        self.make = make\n",
    "        self.model = model\n",
    "        self.year = year\n",
    "\n",
    "    def display_info(self):\n",
    "        print(f\"Car Information: {self.year} {self.make} {self.model}\")\n",
    "\n",
    "car1 = Car(\"Toyota\", \"Corolla\", 2024)\n",
    "car1.display_info()\n"
   ]
  },
  {
   "cell_type": "code",
   "execution_count": null,
   "id": "a90452e2-9094-4b90-b21b-f5b5e3be0985",
   "metadata": {},
   "outputs": [],
   "source": [
    " Class Methods:\n",
    "Definition: Class methods are functions that belong to the class itself rather than an instance. They take cls as the \n",
    "first parameter, which refers to the class, not an instance of the class. Class methods are defined using the @classmethod decorator \n",
    "and can access and modify class-level data (attributes that are shared among all instances).\n",
    "Usage: Class methods are used to perform actions that relate to the class as a whole, rather than to any specific instance."
   ]
  },
  {
   "cell_type": "code",
   "execution_count": 10,
   "id": "4264c169-c9a7-456a-8f74-802b8eecbd01",
   "metadata": {},
   "outputs": [
    {
     "name": "stdout",
     "output_type": "stream",
     "text": [
      "A car has 4 wheels.\n"
     ]
    }
   ],
   "source": [
    "class Car:\n",
    "    wheels = 4\n",
    "\n",
    "    def __init__(self, make, model, year):\n",
    "        self.make = make\n",
    "        self.model = model\n",
    "        self.year = year\n",
    "\n",
    "    @classmethod\n",
    "    def display_class_info(cls):\n",
    "        print(f\"A car has {cls.wheels} wheels.\")\n",
    "\n",
    "Car.display_class_info()\n"
   ]
  },
  {
   "cell_type": "code",
   "execution_count": null,
   "id": "b70ae5ff-d3a1-40e3-af70-411ef6554cd1",
   "metadata": {},
   "outputs": [],
   "source": [
    "4. How does Python implement method overloading? Give an example."
   ]
  },
  {
   "cell_type": "code",
   "execution_count": null,
   "id": "1f6135bb-7690-4caa-8c23-fff17ac174f9",
   "metadata": {},
   "outputs": [],
   "source": [
    "Python doesn't support traditional method overloading like other languages (e.g., Java). However, you can simulate method overloading using:\n",
    "\n",
    "Default Arguments: You can provide default values for parameters to allow a method to accept different numbers of arguments.\n",
    "Variable-Length Arguments (*args): You can use *args to accept a variable number of positional arguments."
   ]
  },
  {
   "cell_type": "code",
   "execution_count": 6,
   "id": "7c610fae-fee0-4976-aac6-913e85460057",
   "metadata": {},
   "outputs": [
    {
     "name": "stdout",
     "output_type": "stream",
     "text": [
      "5\n",
      "15\n",
      "50\n"
     ]
    }
   ],
   "source": [
    "class Calculator:\n",
    "    def add(self, *args):\n",
    "        return sum(args)\n",
    "\n",
    "calc = Calculator()\n",
    "print(calc.add(5))            \n",
    "print(calc.add(5, 10))        \n",
    "print(calc.add(5, 10, 15, 20)) "
   ]
  },
  {
   "cell_type": "code",
   "execution_count": null,
   "id": "b36ed8ae-c6f4-4958-b20c-48efa08a70e7",
   "metadata": {},
   "outputs": [],
   "source": [
    " 5. What are the three types of access modifiers in Python? How are they denoted?"
   ]
  },
  {
   "cell_type": "code",
   "execution_count": null,
   "id": "178f0561-52f3-4315-bc75-9e2d00a6edc6",
   "metadata": {},
   "outputs": [],
   "source": [
    "In Python, there are three types of access modifiers that determine the visibility and accessibility of class attributes and methods:\n",
    "\n",
    "Public:\n",
    "Denoted by: No leading underscores.\n",
    "Description: Attributes and methods are accessible from anywhere (both inside and outside the class).\n",
    "Example: self.attribute\n",
    "\n",
    "Protected:\n",
    "Denoted by: A single leading underscore (_).\n",
    "Description: Attributes and methods are meant to be accessed only within the class and its subclasses (not strictly enforced, but by convention).\n",
    "Example: self._attribute\n",
    "\n",
    "Private:\n",
    "Denoted by: A double leading underscore (__).\n",
    "Description: Attributes and methods are intended to be private to the class and are not directly accessible outside of it. Python uses name mangling to make it harder to access.\n",
    "Example: self.__attribute"
   ]
  },
  {
   "cell_type": "code",
   "execution_count": null,
   "id": "dd2d80e6-96e9-4033-9fba-362e7ccc4b54",
   "metadata": {},
   "outputs": [],
   "source": [
    " 6. Describe the five types of inheritance in Python. Provide a simple example of multiple inheritance."
   ]
  },
  {
   "cell_type": "code",
   "execution_count": null,
   "id": "5159e431-af38-4880-9b6d-08eec5ea9b11",
   "metadata": {},
   "outputs": [],
   "source": [
    "In Python, there are five types of inheritance:\n",
    "\n",
    "1. Single Inheritance:\n",
    "A class inherits from only one base class.\n",
    "Example: A Dog class inheriting from an Animal class.\n",
    "2. Multiple Inheritance:\n",
    "A class inherits from more than one base class.\n",
    "Example: A Student class inherits from both Person and Teacher classes.\n",
    "3. Multilevel Inheritance:\n",
    "A class inherits from a derived class, which itself inherits from another class (forming a chain).\n",
    "Example: A Grandchild class inherits from Child, which inherits from Parent.\n",
    "4. Hierarchical Inheritance:\n",
    "Multiple classes inherit from a single base class.\n",
    "Example: Both Cat and Dog classes inherit from the Animal class.\n",
    "5. Hybrid Inheritance:\n",
    "A combination of two or more types of inheritance, e.g., a mix of multiple and multilevel inheritance.\n",
    "Example: A Child class inherits from both Parent1 and Parent2, while Parent1 is derived from a common Grandparent."
   ]
  },
  {
   "cell_type": "code",
   "execution_count": 7,
   "id": "a24ee1ed-8bdb-48de-b7ad-a2ef6c78c063",
   "metadata": {},
   "outputs": [
    {
     "name": "stdout",
     "output_type": "stream",
     "text": [
      "Hello, my name is Alice\n",
      "I teach Mathematics\n",
      "Alice is studying Mathematics\n"
     ]
    }
   ],
   "source": [
    "class Person:\n",
    "    def __init__(self, name):\n",
    "        self.name = name\n",
    "\n",
    "    def greet(self):\n",
    "        print(f\"Hello, my name is {self.name}\")\n",
    "\n",
    "class Teacher:\n",
    "    def __init__(self, subject):\n",
    "        self.subject = subject\n",
    "\n",
    "    def teach(self):\n",
    "        print(f\"I teach {self.subject}\")\n",
    "\n",
    "class Student(Person, Teacher):\n",
    "    def __init__(self, name, subject):\n",
    "        Person.__init__(self, name)\n",
    "        Teacher.__init__(self, subject)\n",
    "\n",
    "    def study(self):\n",
    "        print(f\"{self.name} is studying {self.subject}\")\n",
    "\n",
    "\n",
    "student = Student(\"Alice\", \"Mathematics\")\n",
    "student.greet()   \n",
    "student.teach()   \n",
    "student.study()   \n"
   ]
  },
  {
   "cell_type": "code",
   "execution_count": null,
   "id": "0d3100cf-f6ae-491e-93e0-39b2e375e44a",
   "metadata": {},
   "outputs": [],
   "source": [
    "7. What is the Method Resolution Order (MRO) in Python? How can you retrieve it programmatically?"
   ]
  },
  {
   "cell_type": "code",
   "execution_count": null,
   "id": "54769213-5d0e-422a-a554-76a84e0a7450",
   "metadata": {},
   "outputs": [],
   "source": [
    "Method Resolution Order (MRO) in Python:\n",
    "Definition: MRO is the order in which Python looks for a method or attribute in a class hierarchy when it is called. \n",
    "It defines the sequence in which base classes are checked in case of multiple inheritance.\n",
    "Python uses the C3 Linearization algorithm to determine the MRO, ensuring a consistent and predictable order when searching\n",
    "for methods or attributes in multiple base classes.\n",
    "\n",
    "\n",
    "How to Retrieve MRO Programmatically:\n",
    "You can retrieve the MRO of a class using the mro() method or the __mro__ attribute."
   ]
  },
  {
   "cell_type": "code",
   "execution_count": null,
   "id": "43f33aa7-5ebf-4108-9785-86e94a9cb27c",
   "metadata": {},
   "outputs": [],
   "source": [
    " 8. Create an abstract base class `Shape` with an abstract method `area()`. Then create two subclasses \n",
    "`Circle` and `Rectangle` that implement the `area()` method."
   ]
  },
  {
   "cell_type": "code",
   "execution_count": null,
   "id": "0e431a30-2a0a-469c-a241-7785e803ae5d",
   "metadata": {},
   "outputs": [],
   "source": [
    "In Python, you can create an abstract base class (ABC) using the abc module. An abstract base class can have abstract methods, \n",
    "which must be implemented by subclasses.\n",
    "\n",
    "Here’s an implementation where we create an abstract base class Shape with an abstract method area(), and then create two \n",
    "subclasses Circle and Rectangle that implement the area() method:"
   ]
  },
  {
   "cell_type": "code",
   "execution_count": 8,
   "id": "a69d06d8-7dad-49f7-b378-5c1343309e49",
   "metadata": {},
   "outputs": [
    {
     "name": "stdout",
     "output_type": "stream",
     "text": [
      "Area of circle: 78.53981633974483\n",
      "Area of rectangle: 24\n"
     ]
    }
   ],
   "source": [
    "from abc import ABC, abstractmethod\n",
    "import math\n",
    "\n",
    "\n",
    "class Shape(ABC):\n",
    "    \n",
    "    @abstractmethod\n",
    "    def area(self):\n",
    "        pass  \n",
    "\n",
    "\n",
    "class Circle(Shape):\n",
    "    def __init__(self, radius):\n",
    "        self.radius = radius\n",
    "\n",
    "    def area(self):\n",
    "        return math.pi * self.radius ** 2\n",
    "\n",
    "\n",
    "class Rectangle(Shape):\n",
    "    def __init__(self, width, height):\n",
    "        self.width = width\n",
    "        self.height = height\n",
    "\n",
    "    def area(self):\n",
    "        return self.width * self.height\n",
    "\n",
    "\n",
    "circle = Circle(5)\n",
    "rectangle = Rectangle(4, 6)\n",
    "\n",
    "print(f\"Area of circle: {circle.area()}\")       \n",
    "print(f\"Area of rectangle: {rectangle.area()}\")"
   ]
  },
  {
   "cell_type": "code",
   "execution_count": null,
   "id": "3bd13df7-26a3-4a8e-8039-2cfcee7b284a",
   "metadata": {},
   "outputs": [],
   "source": [
    " 9. Demonstrate polymorphism by creating a function that can work with different shape objects to calculate \n",
    "and print their areas."
   ]
  },
  {
   "cell_type": "code",
   "execution_count": null,
   "id": "9376b858-7b2e-4141-b6d4-626dddf1f34a",
   "metadata": {},
   "outputs": [],
   "source": [
    "Polymorphism allows different classes to be treated as instances of the same class through a common interface.\n",
    "In this case, we can demonstrate polymorphism by creating a function that works with various shape objects and calculates\n",
    "their areas, even though the objects come from different classes (e.g., Circle and Rectangle)."
   ]
  },
  {
   "cell_type": "code",
   "execution_count": 12,
   "id": "066b801a-5d87-4c6d-87e9-ffa80434ad9f",
   "metadata": {},
   "outputs": [
    {
     "name": "stdout",
     "output_type": "stream",
     "text": [
      "Area of circle: 113.09733552923255\n",
      "Area of rectangle: 30\n"
     ]
    }
   ],
   "source": [
    "from abc import ABC, abstractmethod\n",
    "import math\n",
    "\n",
    "\n",
    "class Shape(ABC):\n",
    "    \n",
    "    @abstractmethod\n",
    "    def area(self):\n",
    "        pass  \n",
    "\n",
    "\n",
    "class Circle(Shape):\n",
    "    def __init__(self, radius):\n",
    "        self.radius = radius\n",
    "\n",
    "    def area(self):\n",
    "        return math.pi * self.radius ** 2\n",
    "\n",
    "\n",
    "class Rectangle(Shape):\n",
    "    def __init__(self, width, height):\n",
    "        self.width = width\n",
    "        self.height = height\n",
    "\n",
    "    def area(self):\n",
    "        return self.width * self.height\n",
    "\n",
    "circle = Circle(6)\n",
    "rectangle = Rectangle(5, 6)\n",
    "\n",
    "print(f\"Area of circle: {circle.area()}\")\n",
    "print(f\"Area of rectangle: {rectangle.area()}\") \n"
   ]
  },
  {
   "cell_type": "code",
   "execution_count": null,
   "id": "35af23ac-769c-4896-8c59-614dd928259d",
   "metadata": {},
   "outputs": [],
   "source": [
    "10. Implement encapsulation in a `BankAccount` class with private attributes for `balance` and \n",
    "`account_number`. Include methods for deposit, withdrawal, and balance inquiry."
   ]
  },
  {
   "cell_type": "code",
   "execution_count": null,
   "id": "a91a5eca-3d3c-464c-8ca0-4383d9a3875a",
   "metadata": {},
   "outputs": [],
   "source": [
    "Here’s an implementation of encapsulation in a BankAccount class with private attributes for balance and account_number.\n",
    "The class includes methods for deposit, withdrawal, and balance inquiry:"
   ]
  },
  {
   "cell_type": "code",
   "execution_count": 13,
   "id": "8abdf99a-bbe2-448b-925f-f456892da345",
   "metadata": {},
   "outputs": [
    {
     "name": "stdout",
     "output_type": "stream",
     "text": [
      "Deposited $200. New balance is $700.\n",
      "Withdrew $100. New balance is $600.\n",
      "Account Balance: $600\n",
      "Account Number: 1234567890\n"
     ]
    }
   ],
   "source": [
    "class BankAccount:\n",
    "    def __init__(self, account_number, initial_balance=0):\n",
    "\n",
    "        self.__account_number = account_number\n",
    "        self.__balance = initial_balance\n",
    "    \n",
    "   \n",
    "    def deposit(self, amount):\n",
    "        if amount > 0:\n",
    "            self.__balance += amount\n",
    "            print(f\"Deposited ${amount}. New balance is ${self.__balance}.\")\n",
    "        else:\n",
    "            print(\"Deposit amount must be greater than 0.\")\n",
    "    \n",
    "    def withdraw(self, amount):\n",
    "        if amount > 0 and amount <= self.__balance:\n",
    "            self.__balance -= amount\n",
    "            print(f\"Withdrew ${amount}. New balance is ${self.__balance}.\")\n",
    "        elif amount > self.__balance:\n",
    "            print(\"Insufficient funds.\")\n",
    "        else:\n",
    "            print(\"Withdrawal amount must be greater than 0.\")\n",
    "    \n",
    "    def get_balance(self):\n",
    "        return self.__balance\n",
    "    \n",
    "    def get_account_number(self):\n",
    "        return self.__account_number\n",
    "\n",
    "\n",
    "account = BankAccount(account_number=\"1234567890\", initial_balance=500)\n",
    "\n",
    "\n",
    "account.deposit(200)\n",
    "\n",
    "\n",
    "account.withdraw(100)\n",
    "\n",
    "\n",
    "print(f\"Account Balance: ${account.get_balance()}\")\n",
    "\n",
    "\n",
    "print(f\"Account Number: {account.get_account_number()}\")\n"
   ]
  },
  {
   "cell_type": "code",
   "execution_count": null,
   "id": "d7603da8-c6a3-4d54-aa8a-50fc32d07e63",
   "metadata": {},
   "outputs": [],
   "source": [
    " 11. Write a class that overrides the `__str__` and `__add__` magic methods. What will these methods allow \n",
    "you to do?"
   ]
  },
  {
   "cell_type": "code",
   "execution_count": null,
   "id": "7a0f4f59-9108-43fa-9706-6b3a3bac6201",
   "metadata": {},
   "outputs": [],
   "source": [
    "When you override the __str__ and __add__ magic methods in a class, you can customize how the object behaves \n",
    "when converted to a string (via str()) and when the + operator is used (via __add__).\n",
    "\n",
    "Here’s an example of a class that overrides both methods:"
   ]
  },
  {
   "cell_type": "code",
   "execution_count": 14,
   "id": "9b332339-9474-4206-93b0-ef9e85210b11",
   "metadata": {},
   "outputs": [
    {
     "name": "stdout",
     "output_type": "stream",
     "text": [
      "Point(3, 4)\n",
      "Point(4, 6)\n"
     ]
    }
   ],
   "source": [
    "class Point:\n",
    "    def __init__(self, x, y):\n",
    "        self.x = x\n",
    "        self.y = y\n",
    "\n",
    "    def __str__(self):\n",
    "        return f\"Point({self.x}, {self.y})\"\n",
    "\n",
    "    def __add__(self, other):\n",
    "        if isinstance(other, Point):\n",
    "           \n",
    "            return Point(self.x + other.x, self.y + other.y)\n",
    "        return NotImplemented\n",
    "\n",
    "\n",
    "p1 = Point(3, 4)\n",
    "p2 = Point(1, 2)\n",
    "\n",
    "print(p1)  \n",
    "\n",
    "p3 = p1 + p2\n",
    "print(p3) \n"
   ]
  },
  {
   "cell_type": "code",
   "execution_count": null,
   "id": "1f746446-a90f-44de-b617-323213b1a0aa",
   "metadata": {},
   "outputs": [],
   "source": [
    "What do these methods allow you to do?\n",
    "__str__ method:\n",
    "The __str__ method allows you to define a custom string representation for objects of your class.\n",
    "When you print an object, or pass it to str(), Python will call the __str__ method to convert the object into a string.\n",
    "This makes it easy to output or represent an object in a human-readable way.\n",
    "In the example, __str__ returns a string like \"Point(3, 4)\", so when you print p1, it outputs that string instead of the default memory address.\n",
    "\n",
    "__add__ method:\n",
    "The __add__ method allows you to define how objects of your class behave when the + operator is used between them.\n",
    "In the example, __add__ adds two Point objects by adding their corresponding x and y coordinates.\n",
    "So, when you do p1 + p2, Python calls the __add__ method, which combines the points' coordinates and returns a new Point\n",
    "object with the summed coordinates."
   ]
  },
  {
   "cell_type": "code",
   "execution_count": null,
   "id": "cd87133f-26a4-4681-b324-8a18b7b90186",
   "metadata": {},
   "outputs": [],
   "source": [
    " 12. Create a decorator that measures and prints the execution time of a function."
   ]
  },
  {
   "cell_type": "code",
   "execution_count": null,
   "id": "72ef87d4-0196-47c0-b049-d72381663f3f",
   "metadata": {},
   "outputs": [],
   "source": [
    "measure_execution_time(func): This is the decorator function. It takes the function func as an argument.\n",
    "\n",
    "wrapper(*args, **kwargs): The wrapper function is the function that will replace the original function. It accepts any number of arguments and keyword arguments \n",
    "(*args and **kwargs), which it passes to the original function.\n",
    "\n",
    "Timing the execution:\n",
    "\n",
    "start_time = time.time() captures the current time before the function starts executing.\n",
    "After the function finishes executing, end_time = time.time() captures the time again.\n",
    "The execution time is calculated as end_time - start_time.\n",
    "Printing the execution time: The decorator prints the execution time of the wrapped function with six decimal places for precision."
   ]
  },
  {
   "cell_type": "code",
   "execution_count": null,
   "id": "fe32f957-2d49-4a8a-81b2-11aaef0aa1e9",
   "metadata": {},
   "outputs": [],
   "source": [
    " 13. Explain the concept of the Diamond Problem in multiple inheritance. How does Python resolve it?"
   ]
  },
  {
   "cell_type": "code",
   "execution_count": null,
   "id": "ef84b98a-428e-42fd-a6e1-8b5618eb091d",
   "metadata": {},
   "outputs": [],
   "source": [
    "The Diamond Problem is a complication that arises in multiple inheritance, where a class inherits from two classes \n",
    "that both inherit from a common ancestor. This results in a situation where there are multiple paths to the same base class, \n",
    "leading to ambiguity in method resolution.\n",
    "\n",
    "Explanation of the Diamond Problem:\n",
    "Let’s consider the following class structure:"
   ]
  },
  {
   "cell_type": "code",
   "execution_count": null,
   "id": "e54b1960-6ed6-42da-93fb-43d1465aa163",
   "metadata": {},
   "outputs": [],
   "source": [
    "       A\n",
    "      / \\\n",
    "     B   C\n",
    "      \\ /\n",
    "       D\n"
   ]
  },
  {
   "cell_type": "code",
   "execution_count": null,
   "id": "ebf2a336-706a-4fcc-97bf-35bfd6e25031",
   "metadata": {},
   "outputs": [],
   "source": [
    "In this diagram:\n",
    "\n",
    "A is the base class.\n",
    "B and C both inherit from A.\n",
    "D inherits from both B and C.\n",
    "The problem occurs when class D calls a method or accesses an attribute that is defined in A. Since both B and C inherit from A,\n",
    "there are two possible paths to access A's method or attribute, and it can be unclear which method should be called or which attribute\n",
    "should be accessed."
   ]
  },
  {
   "cell_type": "code",
   "execution_count": null,
   "id": "e8bd1149-b2f9-444f-90af-ab65363ac95b",
   "metadata": {},
   "outputs": [],
   "source": [
    " 14. Write a class method that keeps track of the number of instances created from a class."
   ]
  },
  {
   "cell_type": "code",
   "execution_count": null,
   "id": "63ff117f-c085-49cb-b703-e6a3a1cbc5b3",
   "metadata": {},
   "outputs": [],
   "source": [
    "instance_count:\n",
    "This is a class variable that is shared among all instances of the class. Each time an instance is created, the instance_count is incremented.\n",
    "    \n",
    "__init__ constructor:\n",
    "Every time a new object of MyClass is created, the __init__ method is called. Inside this method, we increment the\n",
    "instance_count by 1 to track the number of instances.\n",
    "    \n",
    "get_instance_count class method:\n",
    "The @classmethod decorator is used to define a class method that operates on the class itself, rather than on instances.\n",
    "The cls parameter refers to the class itself, and it is used to access the instance_count class variable. This method returns the \n",
    "current number of instances created."
   ]
  },
  {
   "cell_type": "code",
   "execution_count": null,
   "id": "2402777d-d342-48f8-9f26-815ff945f0c7",
   "metadata": {},
   "outputs": [],
   "source": [
    "15. Implement a static method in a class that checks if a given year is a leap year."
   ]
  },
  {
   "cell_type": "code",
   "execution_count": null,
   "id": "f6471ae4-cc89-4006-950e-01e13e1216a7",
   "metadata": {},
   "outputs": [],
   "source": [
    "To implement a static method in a class that checks if a given year is a leap year, you can define the static\n",
    "method using the @staticmethod decorator. The leap year logic follows these rules:\n",
    "\n",
    "A year is a leap year if it is divisible by 4.\n",
    "However, if it is divisible by 100, it is not a leap year unless it is also divisible by 400."
   ]
  }
 ],
 "metadata": {
  "kernelspec": {
   "display_name": "Python 3 (ipykernel)",
   "language": "python",
   "name": "python3"
  },
  "language_info": {
   "codemirror_mode": {
    "name": "ipython",
    "version": 3
   },
   "file_extension": ".py",
   "mimetype": "text/x-python",
   "name": "python",
   "nbconvert_exporter": "python",
   "pygments_lexer": "ipython3",
   "version": "3.13.0"
  }
 },
 "nbformat": 4,
 "nbformat_minor": 5
}
